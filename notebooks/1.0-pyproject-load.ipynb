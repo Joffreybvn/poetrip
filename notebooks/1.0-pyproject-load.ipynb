{
 "cells": [
  {
   "cell_type": "code",
   "execution_count": 1,
   "metadata": {
    "collapsed": true,
    "pycharm": {
     "name": "#%%\n"
    }
   },
   "outputs": [],
   "source": [
    "import toml"
   ]
  },
  {
   "cell_type": "markdown",
   "source": [
    "### Load demo Pipfile"
   ],
   "metadata": {
    "collapsed": false,
    "pycharm": {
     "name": "#%% md\n"
    }
   }
  },
  {
   "cell_type": "code",
   "execution_count": 7,
   "outputs": [],
   "source": [
    "pipfile = toml.load(\"../Pipfile\")"
   ],
   "metadata": {
    "collapsed": false,
    "pycharm": {
     "name": "#%%\n"
    }
   }
  },
  {
   "cell_type": "code",
   "execution_count": 9,
   "outputs": [
    {
     "data": {
      "text/plain": "dict_keys(['source', 'requires', 'packages', 'dev-packages'])"
     },
     "execution_count": 9,
     "metadata": {},
     "output_type": "execute_result"
    }
   ],
   "source": [
    "pipfile.keys()"
   ],
   "metadata": {
    "collapsed": false,
    "pycharm": {
     "name": "#%%\n"
    }
   }
  },
  {
   "cell_type": "code",
   "execution_count": 10,
   "outputs": [
    {
     "data": {
      "text/plain": "{'source': [{'url': 'https://pypi.python.org/simple',\n   'verify_ssl': True,\n   'name': 'pypi'}],\n 'requires': {'python_version': '2.7'},\n 'packages': {'requests': {'extras': ['socks']},\n  'records': '>0.5.0',\n  'django': {'git': 'https://github.com/django/django.git',\n   'ref': '1.11.4',\n   'editable': True},\n  'e682b37': {'file': 'https://github.com/divio/django-cms/archive/release/3.4.x.zip'},\n  'e1839a8': {'path': '.', 'editable': True},\n  'pywinusb': {'version': '*', 'os_name': \"=='nt'\", 'index': 'pypi'}},\n 'dev-packages': {'nose': '*',\n  'unittest2': {'version': '>=1.0,<3.0',\n   'markers': \"python_version < '2.7.9' or (python_version >= '3.0' and python_version < '3.4')\"}}}"
     },
     "execution_count": 10,
     "metadata": {},
     "output_type": "execute_result"
    }
   ],
   "source": [
    "pipfile"
   ],
   "metadata": {
    "collapsed": false,
    "pycharm": {
     "name": "#%%\n"
    }
   }
  },
  {
   "cell_type": "markdown",
   "source": [
    "### Load Pyproject"
   ],
   "metadata": {
    "collapsed": false,
    "pycharm": {
     "name": "#%% md\n"
    }
   }
  },
  {
   "cell_type": "code",
   "execution_count": 3,
   "outputs": [],
   "source": [
    "pyproject = toml.load(\"../pyproject.toml\")"
   ],
   "metadata": {
    "collapsed": false,
    "pycharm": {
     "name": "#%%\n"
    }
   }
  },
  {
   "cell_type": "code",
   "execution_count": 5,
   "outputs": [],
   "source": [
    "poetry = pyproject['tool']['poetry']"
   ],
   "metadata": {
    "collapsed": false,
    "pycharm": {
     "name": "#%%\n"
    }
   }
  },
  {
   "cell_type": "code",
   "execution_count": 6,
   "outputs": [
    {
     "data": {
      "text/plain": "{'name': 'poetrip',\n 'version': '0.1.0',\n 'description': 'Generate Pipfile from pyproject.toml',\n 'license': 'MIT',\n 'authors': ['Joffrey Bienvenu <joffreybvn@gmail.com>'],\n 'readme': 'README.md',\n 'repository': 'https://github.com/joffreybvn/poetrip',\n 'homepage': 'https://github.com/joffreybvn/poetrip',\n 'keywords': ['packaging', 'poetry', 'pipenv', 'pipfile'],\n 'scripts': {'poetrip': 'poetrip.main:app'},\n 'dependencies': {'python': '^3.6', 'typer': '^0.6.1', 'toml': '^0.9'},\n 'dev-dependencies': {'jupyter': '*', 'pytest': '^3.0', 'pytest-cov': '^2.4'}}"
     },
     "execution_count": 6,
     "metadata": {},
     "output_type": "execute_result"
    }
   ],
   "source": [
    "poetry"
   ],
   "metadata": {
    "collapsed": false,
    "pycharm": {
     "name": "#%%\n"
    }
   }
  },
  {
   "cell_type": "code",
   "execution_count": null,
   "outputs": [],
   "source": [
    "dependencies -> packages\n",
    "dev-dependencies -> dev-packages\n"
   ],
   "metadata": {
    "collapsed": false,
    "pycharm": {
     "name": "#%%\n"
    }
   }
  },
  {
   "cell_type": "code",
   "execution_count": 21,
   "outputs": [],
   "source": [
    "import toml\n",
    "from typing import Dict, Any\n",
    "\n",
    "\n",
    "class PyProject:\n",
    "\n",
    "    def __init__(\n",
    "            self,\n",
    "            infos: dict = None,\n",
    "            dependencies: dict = None,\n",
    "            dev_dependencies: dict = None\n",
    "    ):\n",
    "        self._infos = infos or {}\n",
    "        self._dependencies = dependencies or {}\n",
    "        self._dev_dependencies = dev_dependencies or {}\n",
    "\n",
    "    @classmethod\n",
    "    def from_file(cls, filename: str = 'pyproject.toml') -> 'PyProject':\n",
    "        \"\"\"Load a PyProject file from a filename.\"\"\"\n",
    "        toml_content = dict(toml.load(filename))\n",
    "        poetry_attributes: dict = toml_content['tool']['poetry']\n",
    "\n",
    "        return cls(\n",
    "            dependencies=poetry_attributes.pop('dependencies'),\n",
    "            dev_dependencies=poetry_attributes.pop('dev-dependencies'),\n",
    "            infos=poetry_attributes\n",
    "        )\n",
    "\n",
    "    @property\n",
    "    def attributes(self) -> Dict[str, Any]:\n",
    "        return {'tool': {'poetry': {\n",
    "            **self._infos,\n",
    "            'dependencies': self._dependencies,\n",
    "            'dev-dependencies': self._dev_dependencies\n",
    "        }}}\n",
    "\n",
    "    def _get_requires(self) -> dict:\n",
    "        python_version: str = self._dependencies.pop('python')\n",
    "        return {'python-version': python_version}\n",
    "\n",
    "    def to_pipfile(self) -> 'PipFile':\n",
    "        return PipFile(\n",
    "            source=self._infos,\n",
    "            requires=self._get_requires(),\n",
    "            packages=self._dependencies,\n",
    "            dev_packages=self._dev_dependencies\n",
    "        )\n",
    "\n",
    "\n",
    "class PipFile:\n",
    "\n",
    "    def __init__(\n",
    "            self,\n",
    "            source: dict = None,\n",
    "            requires: dict = None,\n",
    "            packages: dict = None,\n",
    "            dev_packages: dict = None\n",
    "    ):\n",
    "        self._source: dict = source or {}\n",
    "        self._requires: dict = requires or {}\n",
    "        self._packages: dict = packages or {}\n",
    "        self._dev_packages: dict = dev_packages or {}\n",
    "\n",
    "    @property\n",
    "    def attributes(self) -> Dict[str, Any]:\n",
    "        return {\n",
    "            'source': [self._source],\n",
    "            'requires': self._requires,\n",
    "            'packages': self._packages,\n",
    "            'dev-packages': self._dev_packages\n",
    "        }\n",
    "\n",
    "    def to_file(self, filename: str = 'Pipfile') -> None:\n",
    "        \"\"\"Create a Pipfile on disk.\"\"\"\n",
    "        with open(filename, 'w') as file:\n",
    "            toml.dump(self.attributes, file)"
   ],
   "metadata": {
    "collapsed": false,
    "pycharm": {
     "name": "#%%\n"
    }
   }
  },
  {
   "cell_type": "code",
   "execution_count": 22,
   "outputs": [],
   "source": [
    "pyproject = PyProject.from_file('../pyproject.toml')\n",
    "pipfile = pyproject.to_pipfile()\n",
    "pipfile.to_file()"
   ],
   "metadata": {
    "collapsed": false,
    "pycharm": {
     "name": "#%%\n"
    }
   }
  },
  {
   "cell_type": "code",
   "execution_count": 17,
   "outputs": [
    {
     "data": {
      "text/plain": "{'source': [{'name': 'poetrip',\n   'version': '0.1.0',\n   'description': 'Generate Pipfile from pyproject.toml',\n   'license': 'MIT',\n   'authors': ['Joffrey Bienvenu <joffreybvn@gmail.com>'],\n   'readme': 'README.md',\n   'repository': 'https://github.com/joffreybvn/poetrip',\n   'homepage': 'https://github.com/joffreybvn/poetrip',\n   'keywords': ['packaging', 'poetry', 'pipenv', 'pipfile'],\n   'scripts': {'poetrip': 'poetrip.main:app'}}],\n 'requires': {'python-version': '^3.6'},\n 'packages': {'typer': '^0.6.1', 'toml': '^0.9'},\n 'dev-packages': {'jupyter': '*', 'pytest': '^3.0', 'pytest-cov': '^2.4'}}"
     },
     "execution_count": 17,
     "metadata": {},
     "output_type": "execute_result"
    }
   ],
   "source": [],
   "metadata": {
    "collapsed": false,
    "pycharm": {
     "name": "#%%\n"
    }
   }
  },
  {
   "cell_type": "code",
   "execution_count": null,
   "outputs": [],
   "source": [],
   "metadata": {
    "collapsed": false,
    "pycharm": {
     "name": "#%%\n"
    }
   }
  }
 ],
 "metadata": {
  "kernelspec": {
   "display_name": "Python 3",
   "language": "python",
   "name": "python3"
  },
  "language_info": {
   "codemirror_mode": {
    "name": "ipython",
    "version": 2
   },
   "file_extension": ".py",
   "mimetype": "text/x-python",
   "name": "python",
   "nbconvert_exporter": "python",
   "pygments_lexer": "ipython2",
   "version": "2.7.6"
  }
 },
 "nbformat": 4,
 "nbformat_minor": 0
}